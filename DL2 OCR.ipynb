{
 "cells": [
  {
   "cell_type": "code",
   "execution_count": 1,
   "metadata": {},
   "outputs": [],
   "source": [
    "import pandas as pd\n",
    "import numpy as np\n",
    "import seaborn as sns\n",
    "from sklearn.model_selection import train_test_split\n",
    "from sklearn.preprocessing import LabelEncoder\n",
    "from tensorflow.keras.models import Sequential\n",
    "from tensorflow.keras.layers import Dense"
   ]
  },
  {
   "cell_type": "code",
   "execution_count": 2,
   "metadata": {},
   "outputs": [],
   "source": [
    "url = \"https://archive.ics.uci.edu/ml/machine-learning-databases/letter-recognition/letter-recognition.data\"\n",
    "column_names = [\"letter\", \"x-box\", \"y-box\", \"width\", \"height\", \"onpix\",\"x-bar\", \"y-bar\", \"x2bar\", \"y2bar\", \"xybar\", \"x2ybr\", \"xy2br\", \"x-ege\",\"xegvy\", \"y-ege\", \"yegvx\"]\n",
    "data = pd.read_csv(url, names=column_names)"
   ]
  },
  {
   "cell_type": "code",
   "execution_count": 3,
   "metadata": {},
   "outputs": [],
   "source": [
    "X = data.drop('letter', axis=1)\n",
    "y = data['letter']"
   ]
  },
  {
   "cell_type": "code",
   "execution_count": 4,
   "metadata": {},
   "outputs": [],
   "source": [
    "label_encoder = LabelEncoder()\n",
    "y = label_encoder.fit_transform(y)"
   ]
  },
  {
   "cell_type": "code",
   "execution_count": 6,
   "metadata": {},
   "outputs": [],
   "source": [
    "X_train, X_test, y_train, y_test = train_test_split(X, y, test_size=0.2,random_state=42)"
   ]
  },
  {
   "cell_type": "code",
   "execution_count": 7,
   "metadata": {},
   "outputs": [],
   "source": [
    "model = Sequential([\n",
    "Dense(128, activation='relu', input_shape=(16,)),\n",
    "Dense(64, activation='relu'),\n",
    "Dense(26, activation='softmax') # 26 classes for letters A-Z\n",
    "])"
   ]
  },
  {
   "cell_type": "code",
   "execution_count": 8,
   "metadata": {},
   "outputs": [],
   "source": [
    "model.compile(optimizer='adam', loss='sparse_categorical_crossentropy',metrics=['accuracy'])"
   ]
  },
  {
   "cell_type": "code",
   "execution_count": 9,
   "metadata": {},
   "outputs": [
    {
     "name": "stdout",
     "output_type": "stream",
     "text": [
      "Epoch 1/10\n",
      "450/450 [==============================] - 2s 2ms/step - loss: 1.6813 - accuracy: 0.5353 - val_loss: 1.0597 - val_accuracy: 0.7063\n",
      "Epoch 2/10\n",
      "450/450 [==============================] - 1s 1ms/step - loss: 0.9210 - accuracy: 0.7394 - val_loss: 0.8798 - val_accuracy: 0.7419\n",
      "Epoch 3/10\n",
      "450/450 [==============================] - 1s 1ms/step - loss: 0.7533 - accuracy: 0.7819 - val_loss: 0.6979 - val_accuracy: 0.7969\n",
      "Epoch 4/10\n",
      "450/450 [==============================] - 1s 2ms/step - loss: 0.6437 - accuracy: 0.8100 - val_loss: 0.6111 - val_accuracy: 0.8238\n",
      "Epoch 5/10\n",
      "450/450 [==============================] - 1s 1ms/step - loss: 0.5591 - accuracy: 0.8329 - val_loss: 0.5280 - val_accuracy: 0.8406\n",
      "Epoch 6/10\n",
      "450/450 [==============================] - 1s 1ms/step - loss: 0.4991 - accuracy: 0.8515 - val_loss: 0.5074 - val_accuracy: 0.8469\n",
      "Epoch 7/10\n",
      "450/450 [==============================] - 1s 1ms/step - loss: 0.4491 - accuracy: 0.8640 - val_loss: 0.4703 - val_accuracy: 0.8556\n",
      "Epoch 8/10\n",
      "450/450 [==============================] - 1s 1ms/step - loss: 0.4102 - accuracy: 0.8758 - val_loss: 0.4116 - val_accuracy: 0.8725\n",
      "Epoch 9/10\n",
      "450/450 [==============================] - 1s 1ms/step - loss: 0.3704 - accuracy: 0.8858 - val_loss: 0.3790 - val_accuracy: 0.8900\n",
      "Epoch 10/10\n",
      "450/450 [==============================] - 1s 1ms/step - loss: 0.3516 - accuracy: 0.8888 - val_loss: 0.3722 - val_accuracy: 0.8925\n"
     ]
    },
    {
     "data": {
      "text/plain": [
       "<keras.callbacks.History at 0x7fed3032cda0>"
      ]
     },
     "execution_count": 9,
     "metadata": {},
     "output_type": "execute_result"
    }
   ],
   "source": [
    "model.fit(X_train, y_train, epochs=10, batch_size=32, validation_split=0.1)"
   ]
  },
  {
   "cell_type": "code",
   "execution_count": 10,
   "metadata": {},
   "outputs": [
    {
     "name": "stdout",
     "output_type": "stream",
     "text": [
      "125/125 [==============================] - 0s 980us/step - loss: 0.3580 - accuracy: 0.8932\n",
      "Test Accuracy: 89.32%\n"
     ]
    }
   ],
   "source": [
    "loss, accuracy = model.evaluate(X_test, y_test)\n",
    "print(f'Test Accuracy: {accuracy * 100:.2f}%')"
   ]
  },
  {
   "cell_type": "code",
   "execution_count": 11,
   "metadata": {},
   "outputs": [],
   "source": [
    "model.save('ocr_model.keras')"
   ]
  },
  {
   "cell_type": "code",
   "execution_count": 12,
   "metadata": {},
   "outputs": [],
   "source": [
    "from tensorflow.keras.models import load_model\n",
    "# Load the model\n",
    "loaded_model = load_model('ocr_model.keras')"
   ]
  },
  {
   "cell_type": "code",
   "execution_count": 13,
   "metadata": {},
   "outputs": [
    {
     "name": "stdout",
     "output_type": "stream",
     "text": [
      "The predicted letter is: Q\n"
     ]
    }
   ],
   "source": [
    "new_data = np.array([[2, 3, 5, 4, 7, 8, 3, 4, 5, 6, 7, 8, 3, 4, 5, 6]])\n",
    "# Predict the class probabilities\n",
    "predicted_probabilities = loaded_model.predict(new_data)\n",
    "# Get the index of the class with the highest probability\n",
    "predicted_class_index = np.argmax(predicted_probabilities)\n",
    "# Convert the predicted class index back to original letter\n",
    "predicted_letter = label_encoder.inverse_transform([predicted_class_index])\n",
    "print(f\"The predicted letter is: {predicted_letter[0]}\")"
   ]
  },
  {
   "cell_type": "code",
   "execution_count": null,
   "metadata": {},
   "outputs": [],
   "source": []
  }
 ],
 "metadata": {
  "kernelspec": {
   "display_name": "Python 3",
   "language": "python",
   "name": "python3"
  },
  "language_info": {
   "codemirror_mode": {
    "name": "ipython",
    "version": 3
   },
   "file_extension": ".py",
   "mimetype": "text/x-python",
   "name": "python",
   "nbconvert_exporter": "python",
   "pygments_lexer": "ipython3",
   "version": "3.7.3"
  }
 },
 "nbformat": 4,
 "nbformat_minor": 2
}
